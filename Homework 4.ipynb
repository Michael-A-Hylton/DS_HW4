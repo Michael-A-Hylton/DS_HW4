{
 "cells": [
  {
   "cell_type": "code",
   "execution_count": 13,
   "id": "c7466c1b-285f-466f-be8a-ed473d9fd286",
   "metadata": {},
   "outputs": [],
   "source": [
    "import numpy as np\n",
    "import pandas as pd"
   ]
  },
  {
   "cell_type": "code",
   "execution_count": 14,
   "id": "ad281f21-498b-4eb1-ba13-f2459ea4c3c8",
   "metadata": {},
   "outputs": [
    {
     "name": "stdout",
     "output_type": "stream",
     "text": [
      "Question 1\n",
      "Part A:\n",
      "[[19 10  6  1]\n",
      " [ 2 13 15  9]\n",
      " [14  5 11  8]\n",
      " [19 20 19 13]]\n",
      "Part C:\n",
      "[[10 10  6  1]\n",
      " [ 2 10 10  9]\n",
      " [10  5 10  8]\n",
      " [10 10 10 10]]\n",
      "Part D:\n",
      "[27 31 33 40]\n"
     ]
    }
   ],
   "source": [
    "array = np.random.randint(1, 21, size=(4, 4))\n",
    "print(\"Question 1\")\n",
    "print(\"Part A:\")\n",
    "print(array)\n",
    "array[array > 10] = 10\n",
    "print(\"Part C:\")\n",
    "print(array)\n",
    "row_sums = array.sum(axis=1)\n",
    "print(\"Part D:\")\n",
    "print(row_sums)"
   ]
  },
  {
   "cell_type": "code",
   "execution_count": 15,
   "id": "e264712d-be42-4cf6-84eb-37c1c55e8ba0",
   "metadata": {},
   "outputs": [
    {
     "name": "stdout",
     "output_type": "stream",
     "text": [
      "Question 2\n",
      "Part A:\n",
      "Variance: 131.25\n",
      "Standard Deviation: 11.4564392373896\n",
      "Part B:\n",
      "Median: 22.5\n",
      "25th Percentile: 13.75\n",
      "Part C:\n",
      "Normalized Data: [-1.52752523 -1.09108945 -0.65465367 -0.21821789  0.21821789  0.65465367\n",
      "  1.09108945  1.52752523]\n"
     ]
    }
   ],
   "source": [
    "data2 = np.array([5, 10, 15, 20, 25, 30, 35, 40])\n",
    "print(\"Question 2\\nPart A:\")\n",
    "variance = np.var(data2)\n",
    "std_dev = np.std(data2)\n",
    "print(\"Variance:\", variance)\n",
    "print(\"Standard Deviation:\", std_dev)\n",
    "print(\"Part B:\")\n",
    "median = np.median(data2)\n",
    "percentile_25 = np.percentile(data2, 25)\n",
    "print(\"Median:\", median)\n",
    "print(\"25th Percentile:\", percentile_25)\n",
    "print(\"Part C:\")\n",
    "normalized_data = (data2 - np.mean(data2)) / np.std(data2)\n",
    "print(\"Normalized Data:\", normalized_data)"
   ]
  },
  {
   "cell_type": "code",
   "execution_count": 16,
   "id": "6e5cbf07-d695-46f9-922c-4af478ab22d8",
   "metadata": {},
   "outputs": [
    {
     "name": "stdout",
     "output_type": "stream",
     "text": [
      "Question 3\n",
      "\n",
      "Part A: [ 1  2  3  4  5  6  7  8  9 10 11 12 13 14 15]\n",
      "Part B: [ 2  4  6  8 10 12 14]\n",
      "Part C: [ 1  2 -3  4  5 -3  7  8 -3 10 11 -3 13 14 -3]\n"
     ]
    }
   ],
   "source": [
    "print(\"Question 3\\n\")\n",
    "arr3 = np.arange(1, 16)\n",
    "print(\"Part A:\", arr3)\n",
    "B_3 = arr3[arr3 % 2 == 0]\n",
    "print(\"Part B:\", B_3)\n",
    "modified_arr3 = np.where(arr3 % 3 == 0, -3, arr3)\n",
    "print(\"Part C:\", modified_arr3)"
   ]
  },
  {
   "cell_type": "code",
   "execution_count": 17,
   "id": "414e5c2e-2d33-4956-a11f-38fa9ef76111",
   "metadata": {},
   "outputs": [
    {
     "name": "stdout",
     "output_type": "stream",
     "text": [
      "Question 4\n",
      "\n",
      "Part 1: [1 2 3] [4 5 6]\n",
      "Part B:\n",
      " [[1 2 3]\n",
      " [4 5 6]] \n",
      " [1 2 3 4 5 6]\n",
      "Part C: [1 2 3 4 5 6]\n"
     ]
    }
   ],
   "source": [
    "print(\"Question 4\\n\")\n",
    "x4 = np.array([1, 2, 3])\n",
    "y4 = np.array([4, 5, 6])\n",
    "print(\"Part 1:\", x4, y4)\n",
    "vertical_stack = np.vstack((x4, y4))\n",
    "\n",
    "horizontal_stack = np.hstack((x4, y4))\n",
    "print(\"Part B:\\n\",vertical_stack,\"\\n\", horizontal_stack)\n",
    "\n",
    "concatenated = np.concatenate((x4, y4))\n",
    "print(\"Part C:\", concatenated)"
   ]
  },
  {
   "cell_type": "code",
   "execution_count": 21,
   "id": "e10862cc-3b53-4737-abca-c40b84d8e565",
   "metadata": {},
   "outputs": [
    {
     "name": "stdout",
     "output_type": "stream",
     "text": [
      "Part A:\n",
      " a    10\n",
      "b    20\n",
      "c    30\n",
      "d    40\n",
      "dtype: int64\n",
      "\n",
      "Part B:\n",
      " a    20\n",
      "b    40\n",
      "c    60\n",
      "d    80\n",
      "dtype: int64\n",
      "\n",
      "Part C: False\n",
      "\n",
      "Part D:\n",
      "    Numbers\n",
      "a       10\n",
      "b       20\n",
      "c       30\n",
      "d       40\n"
     ]
    }
   ],
   "source": [
    "data5 = {'a': 10, 'b': 20, 'c': 30, 'd': 40}\n",
    "series5 = pd.Series(data5)\n",
    "print(\"Part A:\\n\", series5)\n",
    "series_multiplied = series5 * 2\n",
    "print(\"\\nPart B:\\n\", series_multiplied)\n",
    "index_exists = 'e' in series5.index\n",
    "print(\"\\nPart C:\", index_exists)\n",
    "df = series5.to_frame(name='Numbers')\n",
    "print(\"\\nPart D:\\n\", df)"
   ]
  },
  {
   "cell_type": "code",
   "execution_count": 23,
   "id": "74367125-74e6-4a10-8213-5ed78789e2ba",
   "metadata": {},
   "outputs": [
    {
     "name": "stdout",
     "output_type": "stream",
     "text": [
      "Part A:\n",
      "     A   B   C\n",
      "0  11  22   9\n",
      "1  20  37  43\n",
      "2  16  35  37\n",
      "3  22  25  31\n",
      "4  36  13  13\n",
      "\n",
      "Part B:\n",
      "     A   B   C   D\n",
      "0  11  22   9  33\n",
      "1  20  37  43  57\n",
      "2  16  35  37  51\n",
      "3  22  25  31  47\n",
      "4  36  13  13  49\n",
      "\n",
      "Part C:\n",
      "     A   B   D\n",
      "0  11  22  33\n",
      "1  20  37  57\n",
      "2  16  35  51\n",
      "3  22  25  47\n",
      "4  36  13  49\n",
      "\n",
      "Part D:\n",
      "     A   B  Total\n",
      "0  11  22     33\n",
      "1  20  37     57\n",
      "2  16  35     51\n",
      "3  22  25     47\n",
      "4  36  13     49\n"
     ]
    }
   ],
   "source": [
    "df = pd.DataFrame({\n",
    "    'A': np.random.randint(0, 51, size=5),\n",
    "    'B': np.random.randint(0, 51, size=5),\n",
    "    'C': np.random.randint(0, 51, size=5)\n",
    "})\n",
    "print(\"Part A:\\n\", df)\n",
    "df['D'] = df['A'] + df['B']\n",
    "print(\"\\nPart B:\\n\", df) \n",
    "df = df.drop(columns=['C'])\n",
    "print(\"\\nPart C:\\n\", df)\n",
    "df = df.rename(columns={'D': 'Total'})\n",
    "print(\"\\nPart D:\\n\", df) "
   ]
  },
  {
   "cell_type": "code",
   "execution_count": 26,
   "id": "2f964f7b-a06c-4df0-958e-8d20ccf5b7cb",
   "metadata": {},
   "outputs": [
    {
     "name": "stdout",
     "output_type": "stream",
     "text": [
      "Part A:\n",
      "                              A   B  Total\n",
      "2024-11-09 08:14:25.137649  11  22     33\n",
      "2024-11-10 08:14:25.137649  20  37     57\n",
      "2024-11-11 08:14:25.137649  16  35     51\n",
      "2024-11-12 08:14:25.137649  22  25     47\n",
      "2024-11-13 08:14:25.137649  36  13     49\n",
      "Part B:\n",
      "                              A   B  Total\n",
      "2024-11-10 08:14:25.137649  20  37     57\n",
      "2024-11-11 08:14:25.137649  16  35     51\n",
      "\n",
      "Part C:\n",
      "                              A  Total\n",
      "2024-11-09 08:14:25.137649  11     33\n",
      "2024-11-10 08:14:25.137649  20     57\n",
      "2024-11-11 08:14:25.137649  16     51\n"
     ]
    }
   ],
   "source": [
    "today = pd.to_datetime('today')\n",
    "date_index = pd.date_range(today, periods=len(df), freq='D')\n",
    "df.index = date_index\n",
    "print(\"Part A:\\n\", df)\n",
    "filtered_df = df[df['Total'] > 50]\n",
    "print(\"Part B:\\n\", filtered_df)\n",
    "\n",
    "# c) Select only the 'A' and 'Total' columns for the first three rows\n",
    "selected_columns_rows = df[['A', 'Total']].iloc[:3]\n",
    "print(\"\\nPart C:\\n\", selected_columns_rows)"
   ]
  },
  {
   "cell_type": "code",
   "execution_count": 28,
   "id": "b6d7a8c3-f8c1-43b9-b178-7d7498cb0fb6",
   "metadata": {},
   "outputs": [
    {
     "name": "stdout",
     "output_type": "stream",
     "text": [
      "Part A:\n",
      "     Name   Age  Score\n",
      "0    Tom  28.0   85.0\n",
      "1  James  34.0    NaN\n",
      "2  Ricky   NaN   79.0\n",
      "3    Vin  29.0    NaN\n",
      "4  Steve   NaN   92.0\n",
      "\n",
      "Part B: Index(['Age', 'Score'], dtype='object')\n",
      "Part C:\n",
      "     Name   Age  Score\n",
      "0    Tom  28.0   85.0\n",
      "1  James  34.0    NaN\n",
      "2  Ricky  29.0   79.0\n",
      "3    Vin  29.0    NaN\n",
      "4  Steve  29.0   92.0\n",
      "\n",
      "Part D:\n",
      "     Name   Age  Score\n",
      "0    Tom  28.0   85.0\n",
      "2  Ricky  29.0   79.0\n",
      "4  Steve  29.0   92.0\n"
     ]
    }
   ],
   "source": [
    "data = {'Name': ['Tom', 'James', 'Ricky', 'Vin', 'Steve'],\n",
    "        'Age': [28, 34, np.nan, 29, np.nan],\n",
    "        'Score': [85.0, np.nan, 79.0, np.nan, 92.0]}\n",
    "df = pd.DataFrame(data)\n",
    "\n",
    "print(\"Part A:\\n\", df)\n",
    "missing_columns = df.columns[df.isnull().any()]\n",
    "print(\"\\nPart B:\", missing_columns)\n",
    "median_age = df['Age'].median()\n",
    "df['Age'] = df['Age'].fillna(median_age)\n",
    "print(\"Part C:\\n\", df)\n",
    "df = df.dropna(subset=['Score'])\n",
    "print(\"\\nPart D:\\n\", df)"
   ]
  },
  {
   "cell_type": "code",
   "execution_count": 30,
   "id": "9399621a-e178-4959-9d7b-b6979bc43fef",
   "metadata": {},
   "outputs": [
    {
     "name": "stdout",
     "output_type": "stream",
     "text": [
      "Part A:\n",
      "   Team  Points\n",
      "0    A      25\n",
      "1    B      45\n",
      "2    C      65\n",
      "\n",
      "Part B:\n",
      "   Team Player  Points\n",
      "1    A  Alice      15\n",
      "3    B  Emily      25\n",
      "5    C  Grace      35\n"
     ]
    }
   ],
   "source": [
    "data = {'Team': ['A', 'A', 'B', 'B', 'C', 'C'],\n",
    "        'Player': ['John', 'Alice', 'Bob', 'Emily', 'Frank', 'Grace'],\n",
    "        'Points': [10, 15, 20, 25, 30, 35]}\n",
    "df = pd.DataFrame(data)\n",
    "team_points = df.groupby('Team')['Points'].sum().reset_index()\n",
    "print(\"Part A:\\n\", team_points)\n",
    "max_points_player = df.loc[df.groupby('Team')['Points'].idxmax()][['Team', 'Player', 'Points']]\n",
    "print(\"\\nPart B:\\n\", max_points_player)"
   ]
  },
  {
   "cell_type": "code",
   "execution_count": 31,
   "id": "3a79be2a-5c32-4cfb-931a-1ad2871ea856",
   "metadata": {},
   "outputs": [
    {
     "name": "stdout",
     "output_type": "stream",
     "text": [
      "Part A:\n",
      "       Name  Age      City  Income\n",
      "2  Charlie   35  New York   75000\n",
      "4    Ethan   40   Chicago   90000\n",
      "Part B:\n",
      "       Name  Age      City  Income\n",
      "2  Charlie   35  New York   75000\n",
      "4    Ethan   40   Chicago   90000\n",
      "\n",
      "Part C: 82500.0\n",
      "\n",
      "Part D:\n",
      "       Name  Age      City  Income\n",
      "0  Charlie   35  New York   75000\n",
      "1    Ethan   40   Chicago   90000\n"
     ]
    }
   ],
   "source": [
    "data = {'Name': ['Anna', 'Ben', 'Charlie', 'Diana', 'Ethan', 'Fiona'],\n",
    "        'Age': [28, 22, 35, 30, 40, 25],\n",
    "        'City': ['New York', 'Los Angeles', 'New York', 'Chicago', 'Chicago', 'Los Angeles'],\n",
    "        'Income': [50000, 60000, 75000, 82000, 90000, 45000]}\n",
    "\n",
    "df = pd.DataFrame(data)\n",
    "\n",
    "age_filtered = df[df['Age'] > 30]\n",
    "print(\"Part A:\\n\", age_filtered)\n",
    "city_filtered = age_filtered[age_filtered['City'].isin(['New York', 'Chicago'])]\n",
    "print(\"Part B:\\n\", city_filtered)\n",
    "average_income = city_filtered['Income'].mean()\n",
    "print(\"\\nPart C:\", average_income)\n",
    "reset_index_df = city_filtered.reset_index(drop=True)\n",
    "print(\"\\nPart D:\\n\", reset_index_df)"
   ]
  },
  {
   "cell_type": "code",
   "execution_count": null,
   "id": "bad1f572-cf64-48d7-a64b-2246f39da78f",
   "metadata": {},
   "outputs": [],
   "source": []
  }
 ],
 "metadata": {
  "kernelspec": {
   "display_name": "Python 3 (ipykernel)",
   "language": "python",
   "name": "python3"
  },
  "language_info": {
   "codemirror_mode": {
    "name": "ipython",
    "version": 3
   },
   "file_extension": ".py",
   "mimetype": "text/x-python",
   "name": "python",
   "nbconvert_exporter": "python",
   "pygments_lexer": "ipython3",
   "version": "3.12.5"
  }
 },
 "nbformat": 4,
 "nbformat_minor": 5
}
